{
 "cells": [
  {
   "cell_type": "code",
   "execution_count": 1,
   "metadata": {
    "collapsed": true
   },
   "outputs": [],
   "source": [
    "import pandas as pd\n",
    "import numpy as np"
   ]
  },
  {
   "cell_type": "code",
   "execution_count": 2,
   "outputs": [
    {
     "data": {
      "text/plain": "           ID             oldID            Headword               forename  \\\n0     36020.0  /opr/t0001/e1839               aaron                  Aaron   \n1     34829.0  /opr/t0001/e0641             abraham                Abraham   \n2     35438.0  /opr/t0001/e1253  aliceofdunk'sferry  Alice of Dunk's Ferry   \n3     35032.0  /opr/t0001/e0845               billy                  Billy   \n4     39700.0  /opr/t0001/e5936         blackcaesar           Black Caesar   \n...       ...               ...                 ...                    ...   \n1299  34295.0  /opr/t0001/e0107               cesar                  Cesar   \n1300  34375.0  /opr/t0001/e0187             esteban                Esteban   \n1301  34621.0  /opr/t0001/e0433            onesimus               Onesimus   \n1302  34722.0  /opr/t0001/e0534            stagolee               Stagolee   \n1303  38079.0  /opr/t0001/e3952           unclejack             Uncle Jack   \n\n     surname gender Free Born in North America Free before 13th Amendment  \\\n0                 M                        NaN                        Yes   \n1                 M                        NaN                        Yes   \n2                 F                        NaN                         No   \n3                 M                        NaN                         No   \n4                 M                        NaN                        Yes   \n...      ...    ...                        ...                        ...   \n1299     NaN      M                        NaN                        Yes   \n1300     NaN      M                        NaN                        Yes   \n1301     NaN      M                        NaN                        Yes   \n1302     NaN      M                        NaN                        NaN   \n1303     NaN      M                        NaN                        Yes   \n\n     Ever Enslaved                           How was freedom attained  ...  \\\n0         Enslaved  Ran away to Lancaster, Ohio at the age of 29 o...  ...   \n1         Enslaved       Fled enslavement and made his way to Florida  ...   \n2         Enslaved                          Enslaved her entire life.  ...   \n3         Enslaved                      No evidence that he was freed  ...   \n4         Enslaved  Escaped from the slave ship on which he was be...  ...   \n...            ...                                                ...  ...   \n1299      Enslaved  Requested his freedom and 100 pounds per year ...  ...   \n1300      Enslaved  In 1534 he and three Spaniards escaped from th...  ...   \n1301      Enslaved  He purchased his freedom from his owner and pr...  ...   \n1302           NaN                                                NaN  ...   \n1303      Enslaved  After his master's died, he purchased his free...  ...   \n\n     Death Place Country.1 Occupation #1             Occupation #2  \\\n0                      NaN        Slave            Fugitive Slave    \n1                      NaN        Slave    American Indian Leader    \n2            United States        Slave                     Orator   \n3                      NaN        Slave            Alleged Traitor   \n4            United States        Slave                     Pirate   \n...                    ...           ...                       ...   \n1299         United States        Slave     Patent Medicine Maker    \n1300         United States        Slave                   Explorer   \n1301         United States        Slave          Medical Scientist   \n1302         United States     Murderer                  Folk Hero   \n1303         United States        Slave                  Educator    \n\n                Occupation #3    Occupation #4 Occupation #5 Occupation #6  \\\n0      Slave Narrative Author              NaN           NaN           NaN   \n1                Interpreter    Fugitive Slave           NaN           NaN   \n2                         NaN              NaN           NaN           NaN   \n3                         NaN              NaN           NaN           NaN   \n4                         NaN              NaN           NaN           NaN   \n...                       ...              ...           ...           ...   \n1299                Physician              NaN           NaN           NaN   \n1300                      NaN              NaN           NaN           NaN   \n1301                      NaN              NaN           NaN           NaN   \n1302                      NaN              NaN           NaN           NaN   \n1303           Baptist Clergy              NaN           NaN           NaN   \n\n     Occupation #7 Occupation #8 enslaved_bool  \n0              NaN           NaN          True  \n1              NaN           NaN          True  \n2              NaN           NaN          True  \n3              NaN           NaN          True  \n4              NaN           NaN          True  \n...            ...           ...           ...  \n1299           NaN           NaN          True  \n1300           NaN           NaN          True  \n1301           NaN           NaN          True  \n1302           NaN           NaN         False  \n1303           NaN           NaN          True  \n\n[1304 rows x 66 columns]",
      "text/html": "<div>\n<style scoped>\n    .dataframe tbody tr th:only-of-type {\n        vertical-align: middle;\n    }\n\n    .dataframe tbody tr th {\n        vertical-align: top;\n    }\n\n    .dataframe thead th {\n        text-align: right;\n    }\n</style>\n<table border=\"1\" class=\"dataframe\">\n  <thead>\n    <tr style=\"text-align: right;\">\n      <th></th>\n      <th>ID</th>\n      <th>oldID</th>\n      <th>Headword</th>\n      <th>forename</th>\n      <th>surname</th>\n      <th>gender</th>\n      <th>Free Born in North America</th>\n      <th>Free before 13th Amendment</th>\n      <th>Ever Enslaved</th>\n      <th>How was freedom attained</th>\n      <th>...</th>\n      <th>Death Place Country.1</th>\n      <th>Occupation #1</th>\n      <th>Occupation #2</th>\n      <th>Occupation #3</th>\n      <th>Occupation #4</th>\n      <th>Occupation #5</th>\n      <th>Occupation #6</th>\n      <th>Occupation #7</th>\n      <th>Occupation #8</th>\n      <th>enslaved_bool</th>\n    </tr>\n  </thead>\n  <tbody>\n    <tr>\n      <th>0</th>\n      <td>36020.0</td>\n      <td>/opr/t0001/e1839</td>\n      <td>aaron</td>\n      <td>Aaron</td>\n      <td></td>\n      <td>M</td>\n      <td>NaN</td>\n      <td>Yes</td>\n      <td>Enslaved</td>\n      <td>Ran away to Lancaster, Ohio at the age of 29 o...</td>\n      <td>...</td>\n      <td>NaN</td>\n      <td>Slave</td>\n      <td>Fugitive Slave</td>\n      <td>Slave Narrative Author</td>\n      <td>NaN</td>\n      <td>NaN</td>\n      <td>NaN</td>\n      <td>NaN</td>\n      <td>NaN</td>\n      <td>True</td>\n    </tr>\n    <tr>\n      <th>1</th>\n      <td>34829.0</td>\n      <td>/opr/t0001/e0641</td>\n      <td>abraham</td>\n      <td>Abraham</td>\n      <td></td>\n      <td>M</td>\n      <td>NaN</td>\n      <td>Yes</td>\n      <td>Enslaved</td>\n      <td>Fled enslavement and made his way to Florida</td>\n      <td>...</td>\n      <td>NaN</td>\n      <td>Slave</td>\n      <td>American Indian Leader</td>\n      <td>Interpreter</td>\n      <td>Fugitive Slave</td>\n      <td>NaN</td>\n      <td>NaN</td>\n      <td>NaN</td>\n      <td>NaN</td>\n      <td>True</td>\n    </tr>\n    <tr>\n      <th>2</th>\n      <td>35438.0</td>\n      <td>/opr/t0001/e1253</td>\n      <td>aliceofdunk'sferry</td>\n      <td>Alice of Dunk's Ferry</td>\n      <td></td>\n      <td>F</td>\n      <td>NaN</td>\n      <td>No</td>\n      <td>Enslaved</td>\n      <td>Enslaved her entire life.</td>\n      <td>...</td>\n      <td>United States</td>\n      <td>Slave</td>\n      <td>Orator</td>\n      <td>NaN</td>\n      <td>NaN</td>\n      <td>NaN</td>\n      <td>NaN</td>\n      <td>NaN</td>\n      <td>NaN</td>\n      <td>True</td>\n    </tr>\n    <tr>\n      <th>3</th>\n      <td>35032.0</td>\n      <td>/opr/t0001/e0845</td>\n      <td>billy</td>\n      <td>Billy</td>\n      <td></td>\n      <td>M</td>\n      <td>NaN</td>\n      <td>No</td>\n      <td>Enslaved</td>\n      <td>No evidence that he was freed</td>\n      <td>...</td>\n      <td>NaN</td>\n      <td>Slave</td>\n      <td>Alleged Traitor</td>\n      <td>NaN</td>\n      <td>NaN</td>\n      <td>NaN</td>\n      <td>NaN</td>\n      <td>NaN</td>\n      <td>NaN</td>\n      <td>True</td>\n    </tr>\n    <tr>\n      <th>4</th>\n      <td>39700.0</td>\n      <td>/opr/t0001/e5936</td>\n      <td>blackcaesar</td>\n      <td>Black Caesar</td>\n      <td></td>\n      <td>M</td>\n      <td>NaN</td>\n      <td>Yes</td>\n      <td>Enslaved</td>\n      <td>Escaped from the slave ship on which he was be...</td>\n      <td>...</td>\n      <td>United States</td>\n      <td>Slave</td>\n      <td>Pirate</td>\n      <td>NaN</td>\n      <td>NaN</td>\n      <td>NaN</td>\n      <td>NaN</td>\n      <td>NaN</td>\n      <td>NaN</td>\n      <td>True</td>\n    </tr>\n    <tr>\n      <th>...</th>\n      <td>...</td>\n      <td>...</td>\n      <td>...</td>\n      <td>...</td>\n      <td>...</td>\n      <td>...</td>\n      <td>...</td>\n      <td>...</td>\n      <td>...</td>\n      <td>...</td>\n      <td>...</td>\n      <td>...</td>\n      <td>...</td>\n      <td>...</td>\n      <td>...</td>\n      <td>...</td>\n      <td>...</td>\n      <td>...</td>\n      <td>...</td>\n      <td>...</td>\n      <td>...</td>\n    </tr>\n    <tr>\n      <th>1299</th>\n      <td>34295.0</td>\n      <td>/opr/t0001/e0107</td>\n      <td>cesar</td>\n      <td>Cesar</td>\n      <td>NaN</td>\n      <td>M</td>\n      <td>NaN</td>\n      <td>Yes</td>\n      <td>Enslaved</td>\n      <td>Requested his freedom and 100 pounds per year ...</td>\n      <td>...</td>\n      <td>United States</td>\n      <td>Slave</td>\n      <td>Patent Medicine Maker</td>\n      <td>Physician</td>\n      <td>NaN</td>\n      <td>NaN</td>\n      <td>NaN</td>\n      <td>NaN</td>\n      <td>NaN</td>\n      <td>True</td>\n    </tr>\n    <tr>\n      <th>1300</th>\n      <td>34375.0</td>\n      <td>/opr/t0001/e0187</td>\n      <td>esteban</td>\n      <td>Esteban</td>\n      <td>NaN</td>\n      <td>M</td>\n      <td>NaN</td>\n      <td>Yes</td>\n      <td>Enslaved</td>\n      <td>In 1534 he and three Spaniards escaped from th...</td>\n      <td>...</td>\n      <td>United States</td>\n      <td>Slave</td>\n      <td>Explorer</td>\n      <td>NaN</td>\n      <td>NaN</td>\n      <td>NaN</td>\n      <td>NaN</td>\n      <td>NaN</td>\n      <td>NaN</td>\n      <td>True</td>\n    </tr>\n    <tr>\n      <th>1301</th>\n      <td>34621.0</td>\n      <td>/opr/t0001/e0433</td>\n      <td>onesimus</td>\n      <td>Onesimus</td>\n      <td>NaN</td>\n      <td>M</td>\n      <td>NaN</td>\n      <td>Yes</td>\n      <td>Enslaved</td>\n      <td>He purchased his freedom from his owner and pr...</td>\n      <td>...</td>\n      <td>United States</td>\n      <td>Slave</td>\n      <td>Medical Scientist</td>\n      <td>NaN</td>\n      <td>NaN</td>\n      <td>NaN</td>\n      <td>NaN</td>\n      <td>NaN</td>\n      <td>NaN</td>\n      <td>True</td>\n    </tr>\n    <tr>\n      <th>1302</th>\n      <td>34722.0</td>\n      <td>/opr/t0001/e0534</td>\n      <td>stagolee</td>\n      <td>Stagolee</td>\n      <td>NaN</td>\n      <td>M</td>\n      <td>NaN</td>\n      <td>NaN</td>\n      <td>NaN</td>\n      <td>NaN</td>\n      <td>...</td>\n      <td>United States</td>\n      <td>Murderer</td>\n      <td>Folk Hero</td>\n      <td>NaN</td>\n      <td>NaN</td>\n      <td>NaN</td>\n      <td>NaN</td>\n      <td>NaN</td>\n      <td>NaN</td>\n      <td>False</td>\n    </tr>\n    <tr>\n      <th>1303</th>\n      <td>38079.0</td>\n      <td>/opr/t0001/e3952</td>\n      <td>unclejack</td>\n      <td>Uncle Jack</td>\n      <td>NaN</td>\n      <td>M</td>\n      <td>NaN</td>\n      <td>Yes</td>\n      <td>Enslaved</td>\n      <td>After his master's died, he purchased his free...</td>\n      <td>...</td>\n      <td>United States</td>\n      <td>Slave</td>\n      <td>Educator</td>\n      <td>Baptist Clergy</td>\n      <td>NaN</td>\n      <td>NaN</td>\n      <td>NaN</td>\n      <td>NaN</td>\n      <td>NaN</td>\n      <td>True</td>\n    </tr>\n  </tbody>\n</table>\n<p>1304 rows × 66 columns</p>\n</div>"
     },
     "execution_count": 2,
     "metadata": {},
     "output_type": "execute_result"
    }
   ],
   "source": [
    "df = pd.read_csv('../data/AANB-Data-Final-Revised20210414.csv', encoding='unicode_escape')\n",
    "df['enslaved_bool'] = np.where(df['Ever Enslaved'].fillna('').str.lower().str.contains('enslaved'), True, False)\n",
    "df"
   ],
   "metadata": {
    "collapsed": false
   }
  },
  {
   "cell_type": "code",
   "execution_count": null,
   "outputs": [],
   "source": [],
   "metadata": {
    "collapsed": false
   }
  }
 ],
 "metadata": {
  "kernelspec": {
   "display_name": "Python 3",
   "language": "python",
   "name": "python3"
  },
  "language_info": {
   "codemirror_mode": {
    "name": "ipython",
    "version": 2
   },
   "file_extension": ".py",
   "mimetype": "text/x-python",
   "name": "python",
   "nbconvert_exporter": "python",
   "pygments_lexer": "ipython2",
   "version": "2.7.6"
  }
 },
 "nbformat": 4,
 "nbformat_minor": 0
}

{
 "cells": [
  {
   "cell_type": "code",
   "execution_count": 1,
   "metadata": {
    "collapsed": true
   },
   "outputs": [],
   "source": [
    "import pandas as pd\n",
    "import numpy as np\n",
    "import pickle"
   ]
  },
  {
   "cell_type": "code",
   "execution_count": 2,
   "outputs": [
    {
     "data": {
      "text/plain": "           ID             oldID            Headword               forename  \\\n0     36020.0  /opr/t0001/e1839               aaron                  Aaron   \n1     34829.0  /opr/t0001/e0641             abraham                Abraham   \n2     35438.0  /opr/t0001/e1253  aliceofdunk'sferry  Alice of Dunk's Ferry   \n3     35032.0  /opr/t0001/e0845               billy                  Billy   \n4     39700.0  /opr/t0001/e5936         blackcaesar           Black Caesar   \n...       ...               ...                 ...                    ...   \n1299  34295.0  /opr/t0001/e0107               cesar                  Cesar   \n1300  34375.0  /opr/t0001/e0187             esteban                Esteban   \n1301  34621.0  /opr/t0001/e0433            onesimus               Onesimus   \n1302  34722.0  /opr/t0001/e0534            stagolee               Stagolee   \n1303  38079.0  /opr/t0001/e3952           unclejack             Uncle Jack   \n\n     surname gender Free Born in North America Free before 13th Amendment  \\\n0                 M                        NaN                        Yes   \n1                 M                        NaN                        Yes   \n2                 F                        NaN                         No   \n3                 M                        NaN                         No   \n4                 M                        NaN                        Yes   \n...      ...    ...                        ...                        ...   \n1299     NaN      M                        NaN                        Yes   \n1300     NaN      M                        NaN                        Yes   \n1301     NaN      M                        NaN                        Yes   \n1302     NaN      M                        NaN                        NaN   \n1303     NaN      M                        NaN                        Yes   \n\n     Ever Enslaved                           How was freedom attained  ...  \\\n0         Enslaved  Ran away to Lancaster, Ohio at the age of 29 o...  ...   \n1         Enslaved       Fled enslavement and made his way to Florida  ...   \n2         Enslaved                          Enslaved her entire life.  ...   \n3         Enslaved                      No evidence that he was freed  ...   \n4         Enslaved  Escaped from the slave ship on which he was be...  ...   \n...            ...                                                ...  ...   \n1299      Enslaved  Requested his freedom and 100 pounds per year ...  ...   \n1300      Enslaved  In 1534 he and three Spaniards escaped from th...  ...   \n1301      Enslaved  He purchased his freedom from his owner and pr...  ...   \n1302           NaN                                                NaN  ...   \n1303      Enslaved  After his master's died, he purchased his free...  ...   \n\n     altDeathPlaceState Death Place Country.1 Occupation #1  \\\n0                   NaN                   NaN        Slave    \n1                   NaN                   NaN        Slave    \n2                   NaN         United States        Slave    \n3                   NaN                   NaN        Slave    \n4                   NaN         United States        Slave    \n...                 ...                   ...           ...   \n1299                NaN         United States        Slave    \n1300                NaN         United States        Slave    \n1301                NaN         United States        Slave    \n1302                NaN         United States     Murderer    \n1303                NaN         United States        Slave    \n\n                 Occupation #2            Occupation #3    Occupation #4  \\\n0              Fugitive Slave    Slave Narrative Author              NaN   \n1      American Indian Leader              Interpreter    Fugitive Slave   \n2                       Orator                      NaN              NaN   \n3              Alleged Traitor                      NaN              NaN   \n4                       Pirate                      NaN              NaN   \n...                        ...                      ...              ...   \n1299    Patent Medicine Maker                 Physician              NaN   \n1300                  Explorer                      NaN              NaN   \n1301         Medical Scientist                      NaN              NaN   \n1302                 Folk Hero                      NaN              NaN   \n1303                 Educator            Baptist Clergy              NaN   \n\n     Occupation #5 Occupation #6 Occupation #7 Occupation #8  \n0              NaN           NaN           NaN           NaN  \n1              NaN           NaN           NaN           NaN  \n2              NaN           NaN           NaN           NaN  \n3              NaN           NaN           NaN           NaN  \n4              NaN           NaN           NaN           NaN  \n...            ...           ...           ...           ...  \n1299           NaN           NaN           NaN           NaN  \n1300           NaN           NaN           NaN           NaN  \n1301           NaN           NaN           NaN           NaN  \n1302           NaN           NaN           NaN           NaN  \n1303           NaN           NaN           NaN           NaN  \n\n[1304 rows x 65 columns]",
      "text/html": "<div>\n<style scoped>\n    .dataframe tbody tr th:only-of-type {\n        vertical-align: middle;\n    }\n\n    .dataframe tbody tr th {\n        vertical-align: top;\n    }\n\n    .dataframe thead th {\n        text-align: right;\n    }\n</style>\n<table border=\"1\" class=\"dataframe\">\n  <thead>\n    <tr style=\"text-align: right;\">\n      <th></th>\n      <th>ID</th>\n      <th>oldID</th>\n      <th>Headword</th>\n      <th>forename</th>\n      <th>surname</th>\n      <th>gender</th>\n      <th>Free Born in North America</th>\n      <th>Free before 13th Amendment</th>\n      <th>Ever Enslaved</th>\n      <th>How was freedom attained</th>\n      <th>...</th>\n      <th>altDeathPlaceState</th>\n      <th>Death Place Country.1</th>\n      <th>Occupation #1</th>\n      <th>Occupation #2</th>\n      <th>Occupation #3</th>\n      <th>Occupation #4</th>\n      <th>Occupation #5</th>\n      <th>Occupation #6</th>\n      <th>Occupation #7</th>\n      <th>Occupation #8</th>\n    </tr>\n  </thead>\n  <tbody>\n    <tr>\n      <th>0</th>\n      <td>36020.0</td>\n      <td>/opr/t0001/e1839</td>\n      <td>aaron</td>\n      <td>Aaron</td>\n      <td></td>\n      <td>M</td>\n      <td>NaN</td>\n      <td>Yes</td>\n      <td>Enslaved</td>\n      <td>Ran away to Lancaster, Ohio at the age of 29 o...</td>\n      <td>...</td>\n      <td>NaN</td>\n      <td>NaN</td>\n      <td>Slave</td>\n      <td>Fugitive Slave</td>\n      <td>Slave Narrative Author</td>\n      <td>NaN</td>\n      <td>NaN</td>\n      <td>NaN</td>\n      <td>NaN</td>\n      <td>NaN</td>\n    </tr>\n    <tr>\n      <th>1</th>\n      <td>34829.0</td>\n      <td>/opr/t0001/e0641</td>\n      <td>abraham</td>\n      <td>Abraham</td>\n      <td></td>\n      <td>M</td>\n      <td>NaN</td>\n      <td>Yes</td>\n      <td>Enslaved</td>\n      <td>Fled enslavement and made his way to Florida</td>\n      <td>...</td>\n      <td>NaN</td>\n      <td>NaN</td>\n      <td>Slave</td>\n      <td>American Indian Leader</td>\n      <td>Interpreter</td>\n      <td>Fugitive Slave</td>\n      <td>NaN</td>\n      <td>NaN</td>\n      <td>NaN</td>\n      <td>NaN</td>\n    </tr>\n    <tr>\n      <th>2</th>\n      <td>35438.0</td>\n      <td>/opr/t0001/e1253</td>\n      <td>aliceofdunk'sferry</td>\n      <td>Alice of Dunk's Ferry</td>\n      <td></td>\n      <td>F</td>\n      <td>NaN</td>\n      <td>No</td>\n      <td>Enslaved</td>\n      <td>Enslaved her entire life.</td>\n      <td>...</td>\n      <td>NaN</td>\n      <td>United States</td>\n      <td>Slave</td>\n      <td>Orator</td>\n      <td>NaN</td>\n      <td>NaN</td>\n      <td>NaN</td>\n      <td>NaN</td>\n      <td>NaN</td>\n      <td>NaN</td>\n    </tr>\n    <tr>\n      <th>3</th>\n      <td>35032.0</td>\n      <td>/opr/t0001/e0845</td>\n      <td>billy</td>\n      <td>Billy</td>\n      <td></td>\n      <td>M</td>\n      <td>NaN</td>\n      <td>No</td>\n      <td>Enslaved</td>\n      <td>No evidence that he was freed</td>\n      <td>...</td>\n      <td>NaN</td>\n      <td>NaN</td>\n      <td>Slave</td>\n      <td>Alleged Traitor</td>\n      <td>NaN</td>\n      <td>NaN</td>\n      <td>NaN</td>\n      <td>NaN</td>\n      <td>NaN</td>\n      <td>NaN</td>\n    </tr>\n    <tr>\n      <th>4</th>\n      <td>39700.0</td>\n      <td>/opr/t0001/e5936</td>\n      <td>blackcaesar</td>\n      <td>Black Caesar</td>\n      <td></td>\n      <td>M</td>\n      <td>NaN</td>\n      <td>Yes</td>\n      <td>Enslaved</td>\n      <td>Escaped from the slave ship on which he was be...</td>\n      <td>...</td>\n      <td>NaN</td>\n      <td>United States</td>\n      <td>Slave</td>\n      <td>Pirate</td>\n      <td>NaN</td>\n      <td>NaN</td>\n      <td>NaN</td>\n      <td>NaN</td>\n      <td>NaN</td>\n      <td>NaN</td>\n    </tr>\n    <tr>\n      <th>...</th>\n      <td>...</td>\n      <td>...</td>\n      <td>...</td>\n      <td>...</td>\n      <td>...</td>\n      <td>...</td>\n      <td>...</td>\n      <td>...</td>\n      <td>...</td>\n      <td>...</td>\n      <td>...</td>\n      <td>...</td>\n      <td>...</td>\n      <td>...</td>\n      <td>...</td>\n      <td>...</td>\n      <td>...</td>\n      <td>...</td>\n      <td>...</td>\n      <td>...</td>\n      <td>...</td>\n    </tr>\n    <tr>\n      <th>1299</th>\n      <td>34295.0</td>\n      <td>/opr/t0001/e0107</td>\n      <td>cesar</td>\n      <td>Cesar</td>\n      <td>NaN</td>\n      <td>M</td>\n      <td>NaN</td>\n      <td>Yes</td>\n      <td>Enslaved</td>\n      <td>Requested his freedom and 100 pounds per year ...</td>\n      <td>...</td>\n      <td>NaN</td>\n      <td>United States</td>\n      <td>Slave</td>\n      <td>Patent Medicine Maker</td>\n      <td>Physician</td>\n      <td>NaN</td>\n      <td>NaN</td>\n      <td>NaN</td>\n      <td>NaN</td>\n      <td>NaN</td>\n    </tr>\n    <tr>\n      <th>1300</th>\n      <td>34375.0</td>\n      <td>/opr/t0001/e0187</td>\n      <td>esteban</td>\n      <td>Esteban</td>\n      <td>NaN</td>\n      <td>M</td>\n      <td>NaN</td>\n      <td>Yes</td>\n      <td>Enslaved</td>\n      <td>In 1534 he and three Spaniards escaped from th...</td>\n      <td>...</td>\n      <td>NaN</td>\n      <td>United States</td>\n      <td>Slave</td>\n      <td>Explorer</td>\n      <td>NaN</td>\n      <td>NaN</td>\n      <td>NaN</td>\n      <td>NaN</td>\n      <td>NaN</td>\n      <td>NaN</td>\n    </tr>\n    <tr>\n      <th>1301</th>\n      <td>34621.0</td>\n      <td>/opr/t0001/e0433</td>\n      <td>onesimus</td>\n      <td>Onesimus</td>\n      <td>NaN</td>\n      <td>M</td>\n      <td>NaN</td>\n      <td>Yes</td>\n      <td>Enslaved</td>\n      <td>He purchased his freedom from his owner and pr...</td>\n      <td>...</td>\n      <td>NaN</td>\n      <td>United States</td>\n      <td>Slave</td>\n      <td>Medical Scientist</td>\n      <td>NaN</td>\n      <td>NaN</td>\n      <td>NaN</td>\n      <td>NaN</td>\n      <td>NaN</td>\n      <td>NaN</td>\n    </tr>\n    <tr>\n      <th>1302</th>\n      <td>34722.0</td>\n      <td>/opr/t0001/e0534</td>\n      <td>stagolee</td>\n      <td>Stagolee</td>\n      <td>NaN</td>\n      <td>M</td>\n      <td>NaN</td>\n      <td>NaN</td>\n      <td>NaN</td>\n      <td>NaN</td>\n      <td>...</td>\n      <td>NaN</td>\n      <td>United States</td>\n      <td>Murderer</td>\n      <td>Folk Hero</td>\n      <td>NaN</td>\n      <td>NaN</td>\n      <td>NaN</td>\n      <td>NaN</td>\n      <td>NaN</td>\n      <td>NaN</td>\n    </tr>\n    <tr>\n      <th>1303</th>\n      <td>38079.0</td>\n      <td>/opr/t0001/e3952</td>\n      <td>unclejack</td>\n      <td>Uncle Jack</td>\n      <td>NaN</td>\n      <td>M</td>\n      <td>NaN</td>\n      <td>Yes</td>\n      <td>Enslaved</td>\n      <td>After his master's died, he purchased his free...</td>\n      <td>...</td>\n      <td>NaN</td>\n      <td>United States</td>\n      <td>Slave</td>\n      <td>Educator</td>\n      <td>Baptist Clergy</td>\n      <td>NaN</td>\n      <td>NaN</td>\n      <td>NaN</td>\n      <td>NaN</td>\n      <td>NaN</td>\n    </tr>\n  </tbody>\n</table>\n<p>1304 rows × 65 columns</p>\n</div>"
     },
     "execution_count": 2,
     "metadata": {},
     "output_type": "execute_result"
    }
   ],
   "source": [
    "d = pd.read_csv('../data/AANB-Data-Final-Revised20210414.csv', encoding = \"ISO-8859-1\")#, encoding='unicode_escape')\n",
    "d"
   ],
   "metadata": {
    "collapsed": false
   }
  },
  {
   "cell_type": "code",
   "execution_count": 3,
   "outputs": [
    {
     "data": {
      "text/plain": "           ID             oldID               forename surname gender  \\\n0     36020.0  /opr/t0001/e1839                  Aaron              M   \n1     34829.0  /opr/t0001/e0641                Abraham              M   \n2     35438.0  /opr/t0001/e1253  Alice of Dunk's Ferry              F   \n3     35032.0  /opr/t0001/e0845                  Billy              M   \n4     39700.0  /opr/t0001/e5936           Black Caesar              M   \n...       ...               ...                    ...     ...    ...   \n1303  34295.0  /opr/t0001/e0107                  Cesar     NaN      M   \n1304  34375.0  /opr/t0001/e0187                Esteban     NaN      M   \n1305  34621.0  /opr/t0001/e0433               Onesimus     NaN      M   \n1306  34722.0  /opr/t0001/e0534               Stagolee     NaN      M   \n1307  38079.0  /opr/t0001/e3952             Uncle Jack     NaN      M   \n\n     Free Born in North America Free before 13th Amendment Ever Enslaved  \\\n0                           NaN                        Yes      Enslaved   \n1                           NaN                        Yes      Enslaved   \n2                           NaN                         No      Enslaved   \n3                           NaN                         No      Enslaved   \n4                           NaN                        Yes      Enslaved   \n...                         ...                        ...           ...   \n1303                        NaN                        Yes      Enslaved   \n1304                        NaN                        Yes      Enslaved   \n1305                        NaN                        Yes      Enslaved   \n1306                        NaN                        NaN           NaN   \n1307                        NaN                        Yes      Enslaved   \n\n                               How was freedom attained  \\\n0     Ran away to Lancaster, Ohio at the age of 29 o...   \n1          Fled enslavement and made his way to Florida   \n2                             Enslaved her entire life.   \n3                         No evidence that he was freed   \n4     Escaped from the slave ship on which he was be...   \n...                                                 ...   \n1303  Requested his freedom and 100 pounds per year ...   \n1304  In 1534 he and three Spaniards escaped from th...   \n1305  He purchased his freedom from his owner and pr...   \n1306                                                NaN   \n1307  After his master's died, he purchased his free...   \n\n                                 Other/Uncertain Status  ... birthYearClean  \\\n0                                                   NaN  ...           1845   \n1                                                   NaN  ...           1835   \n2                                                   NaN  ...           1686   \n3                                                   NaN  ...           1781   \n4                                                   NaN  ...           9999   \n...                                                 ...  ...            ...   \n1303  Unknown if he was born in Africa, the Caribbea...  ...           1682   \n1304                                                NaN  ...           1500   \n1305                            Probably born in Africa  ...           1706   \n1306          Unknown  Status at Birth. Born Texas 1865  ...           1865   \n1307                                                NaN  ...           1746   \n\n     altBirthYearClean deathYearClean altDeathYearClean        dob        dod  \\\n0                 9999           9999              9999   1/1/1845        NaN   \n1                 9999           9999              9999   1/1/1835        NaN   \n2                 9999           1802              9999   1/1/1686   1/1/1802   \n3                 9999           9999              9999   1/1/1781        NaN   \n4                 9999           1718              9999        NaN   1/1/1718   \n...                ...            ...               ...        ...        ...   \n1303              9999           9999              9999   1/1/1682        NaN   \n1304              9999           1539              9999   1/1/1500   5/1/1539   \n1305              9999           1717              9999   1/1/1706   1/1/1717   \n1306              9999           1912              9999  3/16/1865  3/11/1912   \n1307              9999           1843              9999   1/1/1746   4/6/1843   \n\n     alt_dob alt_dod age_at_death              full_name  \n0        NaN     NaN          NaN                  Aaron  \n1        NaN     NaN          NaN                Abraham  \n2        NaN     NaN   115.996906  Alice of Dunk's Ferry  \n3        NaN     NaN          NaN                  Billy  \n4        NaN     NaN          NaN           Black Caesar  \n...      ...     ...          ...                    ...  \n1303     NaN     NaN          NaN                  Cesar  \n1304     NaN     NaN          NaN                Esteban  \n1305     NaN     NaN    11.000910               Onesimus  \n1306     NaN     NaN    46.985222               Stagolee  \n1307     NaN     NaN    97.258671             Uncle Jack  \n\n[1308 rows x 82 columns]",
      "text/html": "<div>\n<style scoped>\n    .dataframe tbody tr th:only-of-type {\n        vertical-align: middle;\n    }\n\n    .dataframe tbody tr th {\n        vertical-align: top;\n    }\n\n    .dataframe thead th {\n        text-align: right;\n    }\n</style>\n<table border=\"1\" class=\"dataframe\">\n  <thead>\n    <tr style=\"text-align: right;\">\n      <th></th>\n      <th>ID</th>\n      <th>oldID</th>\n      <th>forename</th>\n      <th>surname</th>\n      <th>gender</th>\n      <th>Free Born in North America</th>\n      <th>Free before 13th Amendment</th>\n      <th>Ever Enslaved</th>\n      <th>How was freedom attained</th>\n      <th>Other/Uncertain Status</th>\n      <th>...</th>\n      <th>birthYearClean</th>\n      <th>altBirthYearClean</th>\n      <th>deathYearClean</th>\n      <th>altDeathYearClean</th>\n      <th>dob</th>\n      <th>dod</th>\n      <th>alt_dob</th>\n      <th>alt_dod</th>\n      <th>age_at_death</th>\n      <th>full_name</th>\n    </tr>\n  </thead>\n  <tbody>\n    <tr>\n      <th>0</th>\n      <td>36020.0</td>\n      <td>/opr/t0001/e1839</td>\n      <td>Aaron</td>\n      <td></td>\n      <td>M</td>\n      <td>NaN</td>\n      <td>Yes</td>\n      <td>Enslaved</td>\n      <td>Ran away to Lancaster, Ohio at the age of 29 o...</td>\n      <td>NaN</td>\n      <td>...</td>\n      <td>1845</td>\n      <td>9999</td>\n      <td>9999</td>\n      <td>9999</td>\n      <td>1/1/1845</td>\n      <td>NaN</td>\n      <td>NaN</td>\n      <td>NaN</td>\n      <td>NaN</td>\n      <td>Aaron</td>\n    </tr>\n    <tr>\n      <th>1</th>\n      <td>34829.0</td>\n      <td>/opr/t0001/e0641</td>\n      <td>Abraham</td>\n      <td></td>\n      <td>M</td>\n      <td>NaN</td>\n      <td>Yes</td>\n      <td>Enslaved</td>\n      <td>Fled enslavement and made his way to Florida</td>\n      <td>NaN</td>\n      <td>...</td>\n      <td>1835</td>\n      <td>9999</td>\n      <td>9999</td>\n      <td>9999</td>\n      <td>1/1/1835</td>\n      <td>NaN</td>\n      <td>NaN</td>\n      <td>NaN</td>\n      <td>NaN</td>\n      <td>Abraham</td>\n    </tr>\n    <tr>\n      <th>2</th>\n      <td>35438.0</td>\n      <td>/opr/t0001/e1253</td>\n      <td>Alice of Dunk's Ferry</td>\n      <td></td>\n      <td>F</td>\n      <td>NaN</td>\n      <td>No</td>\n      <td>Enslaved</td>\n      <td>Enslaved her entire life.</td>\n      <td>NaN</td>\n      <td>...</td>\n      <td>1686</td>\n      <td>9999</td>\n      <td>1802</td>\n      <td>9999</td>\n      <td>1/1/1686</td>\n      <td>1/1/1802</td>\n      <td>NaN</td>\n      <td>NaN</td>\n      <td>115.996906</td>\n      <td>Alice of Dunk's Ferry</td>\n    </tr>\n    <tr>\n      <th>3</th>\n      <td>35032.0</td>\n      <td>/opr/t0001/e0845</td>\n      <td>Billy</td>\n      <td></td>\n      <td>M</td>\n      <td>NaN</td>\n      <td>No</td>\n      <td>Enslaved</td>\n      <td>No evidence that he was freed</td>\n      <td>NaN</td>\n      <td>...</td>\n      <td>1781</td>\n      <td>9999</td>\n      <td>9999</td>\n      <td>9999</td>\n      <td>1/1/1781</td>\n      <td>NaN</td>\n      <td>NaN</td>\n      <td>NaN</td>\n      <td>NaN</td>\n      <td>Billy</td>\n    </tr>\n    <tr>\n      <th>4</th>\n      <td>39700.0</td>\n      <td>/opr/t0001/e5936</td>\n      <td>Black Caesar</td>\n      <td></td>\n      <td>M</td>\n      <td>NaN</td>\n      <td>Yes</td>\n      <td>Enslaved</td>\n      <td>Escaped from the slave ship on which he was be...</td>\n      <td>NaN</td>\n      <td>...</td>\n      <td>9999</td>\n      <td>9999</td>\n      <td>1718</td>\n      <td>9999</td>\n      <td>NaN</td>\n      <td>1/1/1718</td>\n      <td>NaN</td>\n      <td>NaN</td>\n      <td>NaN</td>\n      <td>Black Caesar</td>\n    </tr>\n    <tr>\n      <th>...</th>\n      <td>...</td>\n      <td>...</td>\n      <td>...</td>\n      <td>...</td>\n      <td>...</td>\n      <td>...</td>\n      <td>...</td>\n      <td>...</td>\n      <td>...</td>\n      <td>...</td>\n      <td>...</td>\n      <td>...</td>\n      <td>...</td>\n      <td>...</td>\n      <td>...</td>\n      <td>...</td>\n      <td>...</td>\n      <td>...</td>\n      <td>...</td>\n      <td>...</td>\n      <td>...</td>\n    </tr>\n    <tr>\n      <th>1303</th>\n      <td>34295.0</td>\n      <td>/opr/t0001/e0107</td>\n      <td>Cesar</td>\n      <td>NaN</td>\n      <td>M</td>\n      <td>NaN</td>\n      <td>Yes</td>\n      <td>Enslaved</td>\n      <td>Requested his freedom and 100 pounds per year ...</td>\n      <td>Unknown if he was born in Africa, the Caribbea...</td>\n      <td>...</td>\n      <td>1682</td>\n      <td>9999</td>\n      <td>9999</td>\n      <td>9999</td>\n      <td>1/1/1682</td>\n      <td>NaN</td>\n      <td>NaN</td>\n      <td>NaN</td>\n      <td>NaN</td>\n      <td>Cesar</td>\n    </tr>\n    <tr>\n      <th>1304</th>\n      <td>34375.0</td>\n      <td>/opr/t0001/e0187</td>\n      <td>Esteban</td>\n      <td>NaN</td>\n      <td>M</td>\n      <td>NaN</td>\n      <td>Yes</td>\n      <td>Enslaved</td>\n      <td>In 1534 he and three Spaniards escaped from th...</td>\n      <td>NaN</td>\n      <td>...</td>\n      <td>1500</td>\n      <td>9999</td>\n      <td>1539</td>\n      <td>9999</td>\n      <td>1/1/1500</td>\n      <td>5/1/1539</td>\n      <td>NaN</td>\n      <td>NaN</td>\n      <td>NaN</td>\n      <td>Esteban</td>\n    </tr>\n    <tr>\n      <th>1305</th>\n      <td>34621.0</td>\n      <td>/opr/t0001/e0433</td>\n      <td>Onesimus</td>\n      <td>NaN</td>\n      <td>M</td>\n      <td>NaN</td>\n      <td>Yes</td>\n      <td>Enslaved</td>\n      <td>He purchased his freedom from his owner and pr...</td>\n      <td>Probably born in Africa</td>\n      <td>...</td>\n      <td>1706</td>\n      <td>9999</td>\n      <td>1717</td>\n      <td>9999</td>\n      <td>1/1/1706</td>\n      <td>1/1/1717</td>\n      <td>NaN</td>\n      <td>NaN</td>\n      <td>11.000910</td>\n      <td>Onesimus</td>\n    </tr>\n    <tr>\n      <th>1306</th>\n      <td>34722.0</td>\n      <td>/opr/t0001/e0534</td>\n      <td>Stagolee</td>\n      <td>NaN</td>\n      <td>M</td>\n      <td>NaN</td>\n      <td>NaN</td>\n      <td>NaN</td>\n      <td>NaN</td>\n      <td>Unknown  Status at Birth. Born Texas 1865</td>\n      <td>...</td>\n      <td>1865</td>\n      <td>9999</td>\n      <td>1912</td>\n      <td>9999</td>\n      <td>3/16/1865</td>\n      <td>3/11/1912</td>\n      <td>NaN</td>\n      <td>NaN</td>\n      <td>46.985222</td>\n      <td>Stagolee</td>\n    </tr>\n    <tr>\n      <th>1307</th>\n      <td>38079.0</td>\n      <td>/opr/t0001/e3952</td>\n      <td>Uncle Jack</td>\n      <td>NaN</td>\n      <td>M</td>\n      <td>NaN</td>\n      <td>Yes</td>\n      <td>Enslaved</td>\n      <td>After his master's died, he purchased his free...</td>\n      <td>NaN</td>\n      <td>...</td>\n      <td>1746</td>\n      <td>9999</td>\n      <td>1843</td>\n      <td>9999</td>\n      <td>1/1/1746</td>\n      <td>4/6/1843</td>\n      <td>NaN</td>\n      <td>NaN</td>\n      <td>97.258671</td>\n      <td>Uncle Jack</td>\n    </tr>\n  </tbody>\n</table>\n<p>1308 rows × 82 columns</p>\n</div>"
     },
     "execution_count": 3,
     "metadata": {},
     "output_type": "execute_result"
    }
   ],
   "source": [
    "df = d.copy()\n",
    "\n",
    "religion = pd.read_excel('../data/religion_mappings.xlsx')\n",
    "df = df.merge(religion[['oldID', 'religion_clean']], on='oldID', how='left')\n",
    "del([religion])\n",
    "\n",
    "# Remove unnecessary columns\n",
    "df.drop(['Headword'], axis=1, inplace=True)\n",
    "\n",
    "# Remove whitespace from col name\n",
    "df.columns = [col.strip() for col in df.columns]\n",
    "\n",
    "# Create boolean Ever Enslaved\n",
    "df['ever_enslaved_bool'] = np.where(df['Ever Enslaved'].fillna('').str.lower().str.contains('enslaved'), \"Yes\", \"No\")\n",
    "\n",
    "# Replace redundant labels\n",
    "free_before_map = {\n",
    "    'No (?)': 'No',\n",
    "    'Yes (?)': 'Yes',\n",
    "    'Unknown': 'Unknown',\n",
    "    'Status changed during the Civil War': 'Yes',\n",
    "    'NaN': 'Unknown',\n",
    "    'Status Uncertain: Possibly freed by service in the Union Army': 'Unknown',\n",
    "    'Briefly free, but reenslaved': 'No',\n",
    "    'Unclear': 'Unknown',\n",
    "    'yes': 'Yes',\n",
    "    'Not formally.': 'No',\n",
    "    'Unclear if she was ever enslaved.': 'Unknown',\n",
    "    'Freed just before the 13th Amendment': 'Yes'\n",
    "}\n",
    "df['free_before_13_bool'] = df['Free before 13th Amendment'].replace(free_before_map)\n",
    "\n",
    "# Remove extra whitespace\n",
    "df['Free Born in North America'] = df['Free Born in North America'].str.strip()\n",
    "\n",
    "# Create Free Born in North America boolean\n",
    "df['Free Born in North America'].replace({'NaN': 'Unknown', '': 'Unknown'}, regex=True, inplace=True)\n",
    "df['free_born_north_america_bool'] = np.where(\n",
    "    df['Free Born in North America'].str.lower().str.contains('freeborn'),\n",
    "    'Yes',\n",
    "    np.where(df['Free Born in North America'] != 'Unknown', 'No', 'Unknown')\n",
    ")\n",
    "\n",
    "# Remove duplicate based on string case so all values unique\n",
    "df['African born'] = df['African born'].str.capitalize()\n",
    "\n",
    "# Remove duplicate based on strings meaning the same thing so all values unique\n",
    "rebels_replace_map = {\n",
    "    '  ': ' ',\n",
    "    '\\(.*\\?\\)': '',\n",
    "    'N/A': 'Unknown',\n",
    "    '^[N|n]o [E|e]vidence of+ [R|r]unaway\\.?\\s?$': 'No evidence of runaway',  # Catches most of these but some wonky binary chars\n",
    "    'Unclear\\.$': 'Unclear',\n",
    "    'Fugitive Slave\\.$': 'Fugitive Slave',\n",
    "    '\\s$': 'Unknown',\n",
    "    '^nan$': 'Unknown'\n",
    "}\n",
    "df['Runaways and rebels'] = df['Runaways and rebels'].fillna('Unknown')\n",
    "df['Runaways and rebels'] = df['Runaways and rebels'].str.strip()\n",
    "df['Runaways and rebels'] = df['Runaways and rebels'].replace(rebels_replace_map, regex=True).str.strip()\n",
    "df['Runaways and rebels'].replace('No evidence of runaway', 'No evidence of runaway', inplace=True) # Strange Characters not detected in regex\n",
    "df['Runaways and rebels'].replace('No Evidence of Runaway', 'No evidence of runaway', inplace=True) # Strange Characters not detected in regex\n",
    "df['Runaways and rebels'].replace('Probably a runaway', 'Probably a runaway', inplace=True) # Strange Characters not detected in regex\n",
    "df['Runaways and rebels'].replace('', 'Unknown', inplace=True) # Strange Characters not detected in regex\n",
    "\n",
    "# Runaways and rebels boolean\n",
    "df['runaways_and_rebels_bool'] = np.where(\n",
    "    (df['Runaways and rebels'].str.lower().str.contains('no evidence of runaway') | ((df['Runaways and rebels'].str.lower() == 'no') | (df['Runaways and rebels'].str.lower() == 'no.')) | df['Runaways and rebels'].str.lower().str.contains('did not')),\n",
    "    'No',\n",
    "    np.where(\n",
    "        ((df['Runaways and rebels'].str.lower().str.contains('unknown')) & (~df['Runaways and rebels'].str.lower().str.contains('no evidence')) | (df['Runaways and rebels'].str.lower() == 'unclear') | df['Runaways and rebels'].str.lower().str.contains('no reference')),\n",
    "        'Unknown',\n",
    "        'Yes'\n",
    "    )\n",
    ")\n",
    "\n",
    "# Education and Literacy\n",
    "df['Education/literacy'] = df['Education/literacy'].fillna('Unknown').str.strip()\n",
    "education_replace_map = {\n",
    "    'Illiterate\\.$': 'Illiterate',\n",
    "    # 'IlLiterate\\.?': 'Illiterate',\n",
    "    '[L|l]iterate.$': 'Literate',\n",
    "    'literate\\.?$': 'Literate', # Strange characters\n",
    "    'Unknown.$': 'Unknown',\n",
    "    'Taught herself to read.$': 'Literate. Taught herself to read.',\n",
    "    '__$': 'Unknown',\n",
    "    '': 'Unknown',\n",
    "    'No evidence of literacy$': 'No evidence of literacy.',\n",
    "    'Literate. Learned to read and write while still enslaved$': 'Literate. Learned to read and write while still enslaved.'\n",
    "}\n",
    "df['Education/literacy'] = df['Education/literacy'].replace(education_replace_map, regex=True).str.strip()\n",
    "df['Education/literacy'].replace('IlLiterate', 'Illiterate', inplace=True)\n",
    "df['Education/literacy'].replace('Illiterate', 'Illiterate', inplace=True)\n",
    "df['Education/literacy'].replace('literate. Enrolled at Atlanta University aged 17 in 1870. Published a book (posthumously). The House of Bondage; or, Charlotte Brooks and Other Slaves. (1890)', 'Literate. Enrolled at Atlanta University aged 17 in 1870. Published a book (posthumously). The house of Bondage; or, Charlotte Brooks and Other Slaves. (1890)', inplace=True)\n",
    "\n",
    "df['education_prefix'] = np.where(\n",
    "    len(df['Education/literacy'].str.split('.').str[:]) > 1,\n",
    "    df['Education/literacy'].str.split('.').str[0],\n",
    "    'None'\n",
    ")\n",
    "\n",
    "ed_unknown = ['Unknown', 'Unclear', 'No evidence of runaway', 'The details of his education are not stated', 'Educational details are unknown', 'Dictated an autobiography', 'Formal schooling is unknown', 'Details unknown', 'It is unclear if he became literate', 'Details on education are not listed', 'May have been literate', 'One of the Marie Laveaus could at least sign her name', 'Self-educated after acquiring a spelling book', 'Her educational background is unknown, but she apparently had a well-marked Bible', 'The details of his education are not listed', 'Details of his education are unlisted', 'There is no mention of formal education, but Ward briefly served in the Louisiana legislature', 'Little is known about her education', 'Apparently able to write her own name', 'Perhaps literate', 'Extensively trained in singing', 'Illiterate while enslaved', 'Phillis Wheatley described him as a poet', 'Given music training', 'By 1877 he was able to sign his name', 'Unknown (likely ilLiterate', 'Apprenticed in cabinetry and tutored by a retired actor', 'The details of his education are unknown', 'No direct mention of literacy', 'Few details of his formal education are known', 'He and his siblings left school early to pursue work', 'Not stated', 'Played school with a white boy, taught in a Quaker-led afternoon slave school, and studied secretly with a white boy', \"Educational background is unclear, but he published articles in Freedom's Journal and supported education\", 'Jemmy was possibly the same person as Cato, a literate leader in the Stono uprising', 'Learned to read by a child in the family that owned him', 'Skilled at arithmetic', \"His overseer's wife taught him to spell\", 'His account was recorded in 1857 or 1858', 'No evidence of slavery', 'Briefly attended school in Oxford, Ohio']\n",
    "\n",
    "ed_no = ['No evidence of literacy', 'Illiterate', 'No formal education', 'Could read but not write', 'Semiliterate', 'Little (no?) formal education', 'Illiterate, but memorized the scripture and songs necessary for his preaching', 'Attended public school but was expelled once his teachers learned that he was black', 'No evidence of literacy, though his son could read', 'Illiterate, but able to sign his name', 'Apparently never educated', 'Reportedly illiterate', 'Never attended school', 'Likely illiterate, but her husband (Gabriel Prosser) could read', 'Apparently had a limited education', 'No evidence of literacy, although a white apprentice was taught to learn to read while living with Fortune and her husband', 'Could read Arabic but could not write it', 'No formal education, but received instruction in piano', 'Semi-literate', 'Attended various Sunday schools and the school of Enoch Ambush, but was unable to write his name upon finishing his studies', 'No evidence of literacy, although the details of his schooling and photography training are unknown', 'Likely ilLiterate', 'No evidence of schooling', 'No evidence of literacy, although while enslaved he attended daily Bible study', 'Illiterate, but helped found several schools', 'Functionally illiterate', 'No direct evidence of literacy, though he was a leader in many organizations and fulfilled ministerial duties', 'Probably illiterate', 'Believed that she received no formal education', 'No evidence of education', 'Never attended school or wrote a letter', 'Illiterate at the time of his marriage', 'Apparently ilLiterate']\n",
    "\n",
    "ed_yes = ['Literate', 'Apparently literate', 'Presumably literate', 'Likely literate', 'Possibly literate', 'Literate in Arabic', 'Received an elementary education while still enslaved and became a bookkeeper', 'Studied hard to become literate', 'In 1879, she completed a sixteen-month diploma program in nursing at the New England Hospital for Women and Children in Boston', 'Graduated in 1877 with a BA from the Augusta Institute (a forerunner of Morehouse College)', 'Attended school near the plantation where his family continued to work after Emancipation', 'Attended Sabbath school', 'Literate He underwent koranic and Arabic studies', 'Completed several months of schooling', 'His early education came from Bible study and catechism', 'Enrolled at the College of the Holy Cross in Worcester, Massachusetts, in 1850', \"Educated in Freedmen's Bureau schools in Pine Bluff, Arkansas\", 'After the Civil War he completed at least a year of public school in Pennsylvania towns', 'Educated in D', \"Gained a basic education by following the lessons of his owner's son\", 'After the Civil War ended, he briefly attended common schools', 'Graduated in 1870 from Brockport Collegiate Institute', 'Basic literacy', 'Literate and fluent in several languages', 'Educated at Suffield Institute in Connecticut', 'Received a basic education in a Quaker-run school', 'Both of his parents were literate and they probably arranged tutors for William and his siblings', 'Literate in his native language of Kanouri and in Arabic', 'Attended public schools in Salem until forced out due to her race', 'Attended the Institution for the Education of Colored Youth in Washington, D', 'Attended school in Selma, OH', 'Received a basic education', 'Educated by private tutors', 'Literate, likely self-educated', 'Attended school in Providence, RI', 'Graduated from Hampton Institute in Virginia in 1884', 'Taught to read and write by his white grandmother', 'Probably Literate', 'Literate; a public school teacher', 'Attended school until age 12 in North Branford, where the other pupils were white', 'Received a basic British-style education in Nassau in the Bahamas', 'Educated in England', 'Literate by 1870, though no formal education', 'Attended school from age 4 to 10', 'Educated at the Quaker School for Negroes in Philadelphia', \"Tutored with his master's son\", 'Literate and numerate', 'Likely Literate', 'Reportedly gained basic literacy while still enslaved', \"Attended a Freedman's Bureau school\", 'Reportedly went to school in France', 'Graduated from Hampton Institute in Virginia in 1878', \"Attended Howard University's law department starting in 1883\", \"Attended a school organized by the Freedman's Bureau; this was likely her only formal education\", 'Educated at the Wylie Street School for Colored Youth in Pittsburgh, PA', 'Studied at Ockham School in England', 'attended the Preparatory Department of Howard University, then the College Department (class of 1881 valedictorian)', 'Attended a school, received some tutoring, and then attended a Virginia public school', 'Apparently Literate', \"Studied at rural schools and then at Alabama's Talladega College\"]\n",
    "\n",
    "df['education_literacy_bool'] = np.where(\n",
    "    df['education_prefix'].isin(ed_unknown),\n",
    "    'Unknown',\n",
    "    np.where(\n",
    "        df['education_prefix'].isin(ed_no),\n",
    "        'No',\n",
    "        np.where(\n",
    "            df['education_prefix'].isin(ed_yes),\n",
    "            'Yes',\n",
    "            'Unknown'\n",
    "        )\n",
    "    )\n",
    ")\n",
    "\n",
    "df.drop('education_prefix', axis=1, inplace=True)\n",
    "\n",
    "\n",
    "# Clean birth and death dates\n",
    "NAN_YEAR = 9999\n",
    "df['birthMonthClean'] = df['birthMonth'].fillna(1).astype(str).str.replace('\\D+', '', regex=True)\n",
    "df['birthDayClean'] = df['birthDay'].replace(r'^\\s*$', np.nan, regex=True).fillna(1).astype(int)\n",
    "df['birthDayClean'] = np.where(\n",
    "    df['birthDayClean'] < 1,\n",
    "    1,\n",
    "    df['birthDayClean']\n",
    ")\n",
    "df['birthYearClean'] = df['birthYear'].str.findall('\\d{4}').explode().fillna(NAN_YEAR).astype(int)\n",
    "df['altBirthYearClean'] = df['altBirthYear'].str.findall('\\d{4}').explode().fillna(NAN_YEAR).astype(int)\n",
    "df['deathYearClean'] = df['deathYear'].str.findall('\\d{4}').explode().fillna(NAN_YEAR).astype(int)\n",
    "df['altDeathYearClean'] = df['altDeathYear'].str.findall('\\d{4}').explode().fillna(NAN_YEAR).astype(int)\n",
    "\n",
    "df['dob'] = (df['birthMonthClean'].replace(r'^\\s*$', np.nan, regex=True).fillna(1).astype(str) + '/' + df['birthDayClean'].astype(str) + '/' + df['birthYearClean'].astype(str)).replace(f'1/1/{NAN_YEAR}', np.nan)\n",
    "df['dod'] = (df['deathMonth'].replace(r'^\\s*$', np.nan, regex=True).fillna(1).astype(str) + '/' + df['deathDay'].replace(r'^\\s*$', np.nan, regex=True).fillna(1).astype(str) + '/' + df['deathYearClean'].astype(str)).replace(f'1/1/{NAN_YEAR}', np.nan)\n",
    "df['alt_dob'] = (df['altBirthMonth'].replace(r'^\\s*$', np.nan, regex=True).fillna(1).astype(int).astype(str) + '/' + df['altBirthDay'].replace(r'^\\s*$', np.nan, regex=True).fillna(1).astype(int).astype(str) + '/' + df['altBirthYearClean'].astype(str)).replace(f'1/1/{NAN_YEAR}', np.nan)\n",
    "df['alt_dod'] = (df['altDeathMonth'].replace(r'^\\s*$', np.nan, regex=True).fillna(1).astype(str) + '/' + df['altDeathDay'].replace(r'^\\s*$', np.nan, regex=True).fillna(1).astype(str) + '/' + df['altDeathYearClean'].astype(str)).replace(f'1/1/{NAN_YEAR}', np.nan)\n",
    "\n",
    "# Age at death\n",
    "df['age_at_death'] = (pd.to_datetime(df[(df['birthYearClean'] != 9999) & (df['birthYearClean'] >= 1677)]['dod']) - pd.to_datetime(df[(df['birthYearClean'] != 9999) & (df['birthYearClean'] >= 1677)]['dob'])) / np.timedelta64(1, 'Y')\n",
    "\n",
    "# Gender\n",
    "df['gender'] = df['gender'].str.upper().replace('M, F.', np.nan)\n",
    "\n",
    "# Full name\n",
    "df['full_name'] = (df['forename'].fillna('').astype(str).str.strip() + ' ' + df['surname'].fillna('').astype(str).str.strip() + ' ' + df['Suffix'].fillna('').astype(str).str.strip()).str.strip()\n",
    "\n",
    "df"
   ],
   "metadata": {
    "collapsed": false
   }
  },
  {
   "cell_type": "code",
   "execution_count": 4,
   "outputs": [],
   "source": [
    "df.to_pickle('../data/aanb_data_clean.pkl')"
   ],
   "metadata": {
    "collapsed": false
   }
  },
  {
   "cell_type": "code",
   "execution_count": null,
   "outputs": [],
   "source": [],
   "metadata": {
    "collapsed": false
   }
  }
 ],
 "metadata": {
  "kernelspec": {
   "display_name": "Python 3",
   "language": "python",
   "name": "python3"
  },
  "language_info": {
   "codemirror_mode": {
    "name": "ipython",
    "version": 2
   },
   "file_extension": ".py",
   "mimetype": "text/x-python",
   "name": "python",
   "nbconvert_exporter": "python",
   "pygments_lexer": "ipython2",
   "version": "2.7.6"
  }
 },
 "nbformat": 4,
 "nbformat_minor": 0
}
